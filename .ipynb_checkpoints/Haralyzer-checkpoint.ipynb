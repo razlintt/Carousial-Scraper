{
 "cells": [
  {
   "cell_type": "code",
   "execution_count": 2,
   "id": "29c1805e-b2e0-49e5-b9c3-a97b5b79ef24",
   "metadata": {},
   "outputs": [],
   "source": [
    "import json\n",
    "from haralyzer import HarParser, HarPage"
   ]
  },
  {
   "cell_type": "code",
   "execution_count": 3,
   "id": "c159aa74-f715-4143-a8e1-90f39474de51",
   "metadata": {},
   "outputs": [],
   "source": [
    "with open('playwright_test.har', 'r', encoding='utf-8') as f:\n",
    "    har_parser = HarParser(json.loads(f.read()))"
   ]
  },
  {
   "cell_type": "code",
   "execution_count": 4,
   "id": "0c14038a-c5a7-4744-b6e4-21016605e842",
   "metadata": {},
   "outputs": [
    {
     "data": {
      "text/plain": [
       "dict"
      ]
     },
     "execution_count": 4,
     "metadata": {},
     "output_type": "execute_result"
    }
   ],
   "source": [
    "data = har_parser.har_data\n",
    "type(data)"
   ]
  },
  {
   "cell_type": "code",
   "execution_count": 2,
   "id": "e7146c22-6f45-4ed7-9220-1dc69e557603",
   "metadata": {},
   "outputs": [
    {
     "ename": "UnicodeDecodeError",
     "evalue": "'charmap' codec can't decode byte 0x81 in position 143454: character maps to <undefined>",
     "output_type": "error",
     "traceback": [
      "\u001b[1;31m---------------------------------------------------------------------------\u001b[0m",
      "\u001b[1;31mUnicodeDecodeError\u001b[0m                        Traceback (most recent call last)",
      "Cell \u001b[1;32mIn[2], line 5\u001b[0m\n\u001b[0;32m      3\u001b[0m \u001b[38;5;66;03m# Load the HAR file as a dictionary\u001b[39;00m\n\u001b[0;32m      4\u001b[0m \u001b[38;5;28;01mwith\u001b[39;00m \u001b[38;5;28mopen\u001b[39m(\u001b[38;5;124m\"\u001b[39m\u001b[38;5;124mplaywright_test.har\u001b[39m\u001b[38;5;124m\"\u001b[39m, \u001b[38;5;124m\"\u001b[39m\u001b[38;5;124mr\u001b[39m\u001b[38;5;124m\"\u001b[39m) \u001b[38;5;28;01mas\u001b[39;00m file:\n\u001b[1;32m----> 5\u001b[0m     har_data \u001b[38;5;241m=\u001b[39m json\u001b[38;5;241m.\u001b[39mload(\u001b[43mfile\u001b[49m\u001b[38;5;241;43m.\u001b[39;49m\u001b[43mread\u001b[49m\u001b[43m(\u001b[49m\u001b[43m)\u001b[49m)\n\u001b[0;32m      7\u001b[0m \u001b[38;5;66;03m# Remove the \"response\" key from each entry in the HAR log\u001b[39;00m\n\u001b[0;32m      8\u001b[0m filtered_entries \u001b[38;5;241m=\u001b[39m []\n",
      "File \u001b[1;32m~\\miniconda3\\Lib\\encodings\\cp1252.py:23\u001b[0m, in \u001b[0;36mIncrementalDecoder.decode\u001b[1;34m(self, input, final)\u001b[0m\n\u001b[0;32m     22\u001b[0m \u001b[38;5;28;01mdef\u001b[39;00m \u001b[38;5;21mdecode\u001b[39m(\u001b[38;5;28mself\u001b[39m, \u001b[38;5;28minput\u001b[39m, final\u001b[38;5;241m=\u001b[39m\u001b[38;5;28;01mFalse\u001b[39;00m):\n\u001b[1;32m---> 23\u001b[0m     \u001b[38;5;28;01mreturn\u001b[39;00m \u001b[43mcodecs\u001b[49m\u001b[38;5;241;43m.\u001b[39;49m\u001b[43mcharmap_decode\u001b[49m\u001b[43m(\u001b[49m\u001b[38;5;28;43minput\u001b[39;49m\u001b[43m,\u001b[49m\u001b[38;5;28;43mself\u001b[39;49m\u001b[38;5;241;43m.\u001b[39;49m\u001b[43merrors\u001b[49m\u001b[43m,\u001b[49m\u001b[43mdecoding_table\u001b[49m\u001b[43m)\u001b[49m[\u001b[38;5;241m0\u001b[39m]\n",
      "\u001b[1;31mUnicodeDecodeError\u001b[0m: 'charmap' codec can't decode byte 0x81 in position 143454: character maps to <undefined>"
     ]
    }
   ],
   "source": [
    "import json\n",
    "\n",
    "# Load the HAR file as a dictionary\n",
    "with open(\"playwright_test.har\", \"r\", encoding='utf-8') as file:\n",
    "    har_data = json.load(file.read())\n",
    "\n",
    "# Remove the \"response\" key from each entry in the HAR log\n",
    "filtered_entries = []\n",
    "for entry in har_data['log']['entries']:\n",
    "    # Create a new entry dictionary without the 'response' key\n",
    "    filtered_entry = {k: v for k, v in entry.items() if k != 'response'}\n",
    "    filtered_entries.append(filtered_entry)\n",
    "\n",
    "# Replace the original entries with the filtered ones\n",
    "har_data['log']['entries'] = filtered_entries\n",
    "\n",
    "har_data"
   ]
  }
 ],
 "metadata": {
  "kernelspec": {
   "display_name": "Python 3 (ipykernel)",
   "language": "python",
   "name": "python3"
  },
  "language_info": {
   "codemirror_mode": {
    "name": "ipython",
    "version": 3
   },
   "file_extension": ".py",
   "mimetype": "text/x-python",
   "name": "python",
   "nbconvert_exporter": "python",
   "pygments_lexer": "ipython3",
   "version": "3.12.3"
  }
 },
 "nbformat": 4,
 "nbformat_minor": 5
}
