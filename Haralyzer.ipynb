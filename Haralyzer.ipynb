{
 "cells": [
  {
   "cell_type": "code",
   "execution_count": 2,
   "id": "29c1805e-b2e0-49e5-b9c3-a97b5b79ef24",
   "metadata": {},
   "outputs": [],
   "source": [
    "import json\n",
    "from haralyzer import HarParser, HarPage"
   ]
  },
  {
   "cell_type": "code",
   "execution_count": 3,
   "id": "c159aa74-f715-4143-a8e1-90f39474de51",
   "metadata": {},
   "outputs": [],
   "source": [
    "with open('playwright_test.har', 'r', encoding='utf-8') as f:\n",
    "    har_parser = HarParser(json.loads(f.read()))"
   ]
  },
  {
   "cell_type": "code",
   "execution_count": 4,
   "id": "0c14038a-c5a7-4744-b6e4-21016605e842",
   "metadata": {},
   "outputs": [
    {
     "data": {
      "text/plain": [
       "dict"
      ]
     },
     "execution_count": 4,
     "metadata": {},
     "output_type": "execute_result"
    }
   ],
   "source": [
    "data = har_parser.har_data\n",
    "type(data)"
   ]
  },
  {
   "cell_type": "code",
   "execution_count": null,
   "id": "e7146c22-6f45-4ed7-9220-1dc69e557603",
   "metadata": {},
   "outputs": [],
   "source": [
    "import json\n",
    "\n",
    "# Load the HAR file as a dictionary\n",
    "with open(\"playwright_test.har\", \"r\", encoding='utf-8') as file:\n",
    "    har_data = json.load(file)\n",
    "\n",
    "# Remove the \"response\" key from each entry in the HAR log\n",
    "filtered_entries = []\n",
    "for entry in har_data['log']['entries']:\n",
    "    # Create a new entry dictionary without the 'response' key\n",
    "    filtered_entry = {k: v for k, v in entry.items() if k != 'response'}\n",
    "    filtered_entries.append(filtered_entry)\n",
    "\n",
    "# Replace the original entries with the filtered ones\n",
    "har_data['log']['entries'] = filtered_entries\n",
    "\n",
    "har_data"
   ]
  },
  {
   "cell_type": "code",
   "execution_count": 21,
   "id": "99d9f90b-c9d5-48d1-b070-5ac70e7e4cba",
   "metadata": {},
   "outputs": [
    {
     "data": {
      "text/plain": [
       "3454664"
      ]
     },
     "execution_count": 21,
     "metadata": {},
     "output_type": "execute_result"
    }
   ],
   "source": [
    "import pandas as pd\n",
    "\n",
    "# Load the HAR file\n",
    "with open(\"playwright_test.har\", \"r\", encoding='utf-8') as file:\n",
    "    har_data = json.load(file)\n",
    "\n",
    "# Extract name and size information from each entry\n",
    "data = []\n",
    "for entry in har_data['log']['entries']:\n",
    "    name = entry['request']['url']  # Name can be the request URL\n",
    "    size = entry.get('response', {}).get('bodySize', 0)  # Size from response body (default to 0 if missing)\n",
    "    data.append({\"name\": name, \"size\": size})\n",
    "\n",
    "# Create a pandas DataFrame\n",
    "df = pd.DataFrame(data)\n",
    "\n",
    "totalpw_test = int(df[df['size'] != -1].sum()['size'])\n",
    "totalpw_test"
   ]
  },
  {
   "cell_type": "code",
   "execution_count": 23,
   "id": "43eb79d7-ddd2-4f4f-bd9d-c419af9eed40",
   "metadata": {},
   "outputs": [
    {
     "data": {
      "text/plain": [
       "3470815"
      ]
     },
     "execution_count": 23,
     "metadata": {},
     "output_type": "execute_result"
    }
   ],
   "source": [
    "import pandas as pd\n",
    "\n",
    "# Load the HAR file\n",
    "with open(\"playwright_test_aggressive.har\", \"r\", encoding='utf-8') as file:\n",
    "    har_data = json.load(file)\n",
    "\n",
    "# Extract name and size information from each entry\n",
    "data = []\n",
    "for entry in har_data['log']['entries']:\n",
    "    name = entry['request']['url']  # Name can be the request URL\n",
    "    size = entry.get('response', {}).get('bodySize', 0)  # Size from response body (default to 0 if missing)\n",
    "    data.append({\"name\": name, \"size\": size})\n",
    "\n",
    "# Create a pandas DataFrame\n",
    "df = pd.DataFrame(data)\n",
    "\n",
    "totalpw2_test = int(df[df['size'] != -1].sum()['size'])\n",
    "totalpw2_test"
   ]
  },
  {
   "cell_type": "code",
   "execution_count": 24,
   "id": "059e6029-944c-449d-a300-c405e8a61f4f",
   "metadata": {},
   "outputs": [
    {
     "data": {
      "text/plain": [
       "6328936"
      ]
     },
     "execution_count": 24,
     "metadata": {},
     "output_type": "execute_result"
    }
   ],
   "source": [
    "import pandas as pd\n",
    "\n",
    "# Load the HAR file\n",
    "with open(\"playwright_test_original.har\", \"r\", encoding='utf-8') as file:\n",
    "    har_data = json.load(file)\n",
    "\n",
    "# Extract name and size information from each entry\n",
    "data = []\n",
    "for entry in har_data['log']['entries']:\n",
    "    name = entry['request']['url']  # Name can be the request URL\n",
    "    size = entry.get('response', {}).get('bodySize', 0)  # Size from response body (default to 0 if missing)\n",
    "    data.append({\"name\": name, \"size\": size})\n",
    "\n",
    "# Create a pandas DataFrame\n",
    "df = pd.DataFrame(data)\n",
    "\n",
    "totalpw_original_test = int(df[df['size'] != -1].sum()['size'])\n",
    "totalpw_original_test"
   ]
  }
 ],
 "metadata": {
  "kernelspec": {
   "display_name": "Python 3 (ipykernel)",
   "language": "python",
   "name": "python3"
  },
  "language_info": {
   "codemirror_mode": {
    "name": "ipython",
    "version": 3
   },
   "file_extension": ".py",
   "mimetype": "text/x-python",
   "name": "python",
   "nbconvert_exporter": "python",
   "pygments_lexer": "ipython3",
   "version": "3.12.3"
  }
 },
 "nbformat": 4,
 "nbformat_minor": 5
}
